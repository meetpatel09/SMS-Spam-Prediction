{
 "cells": [
  {
   "cell_type": "code",
   "execution_count": 1,
   "metadata": {},
   "outputs": [],
   "source": [
    "import nltk\n",
    "import string\n",
    "import pickle\n",
    "from nltk.corpus import stopwords\n",
    "stopwords.words('english')\n",
    "from nltk.stem.porter import PorterStemmer"
   ]
  },
  {
   "cell_type": "markdown",
   "metadata": {},
   "source": [
    "## Load tf-idf Trained model"
   ]
  },
  {
   "cell_type": "code",
   "execution_count": 2,
   "metadata": {},
   "outputs": [],
   "source": [
    "tfidf = pickle.load(open(\"tfidf.pickle\", \"rb\"))"
   ]
  },
  {
   "cell_type": "markdown",
   "metadata": {},
   "source": [
    "## Load SMS Spam model"
   ]
  },
  {
   "cell_type": "code",
   "execution_count": 3,
   "metadata": {},
   "outputs": [],
   "source": [
    "lrc = pickle.load(open(\"SMSSpamPredictionModel.pickle\", \"rb\"))"
   ]
  },
  {
   "cell_type": "markdown",
   "metadata": {},
   "source": [
    "## Function for Preprocessing SMS"
   ]
  },
  {
   "cell_type": "code",
   "execution_count": 4,
   "metadata": {},
   "outputs": [],
   "source": [
    "#Create One Function which process above 5 Steps\n",
    "\n",
    "ps = PorterStemmer() #Define object for to stremming the data step no 5\n",
    "\n",
    "def PreProcessedSMS(SMS):\n",
    "    SMS = SMS.lower() #Convert All words into lowercase ex. Hello THERE => hello there.\n",
    "    SMS = nltk.wordpunct_tokenize(SMS) #Generate Tokend of Text ex.  hello there => ['hello','there']\n",
    "    \n",
    "    # loop for remove special character ex. @account => account\n",
    "    y = []\n",
    "    for word in SMS:\n",
    "        if word.isalnum():\n",
    "            y.append(word)\n",
    "            \n",
    "    SMS = y[:]\n",
    "    y.clear()\n",
    "    \n",
    "    # loop for remove stopwords \"There are Spiders\" => \"Spiders\"\n",
    "    for word in SMS:\n",
    "        if word not in stopwords.words('english') and word not in string.punctuation:\n",
    "            y.append(word)\n",
    "            \n",
    "            \n",
    "    SMS = y[:]\n",
    "    y.clear()\n",
    "    \n",
    "    # loop for Stemming the text Ex.  Played => Play\n",
    "    for word in SMS:\n",
    "        y.append(ps.stem(word))\n",
    "    \n",
    "    return \" \".join(y)"
   ]
  },
  {
   "cell_type": "code",
   "execution_count": 5,
   "metadata": {},
   "outputs": [
    {
     "data": {
      "text/plain": [
       "(1, 7249)"
      ]
     },
     "execution_count": 5,
     "metadata": {},
     "output_type": "execute_result"
    }
   ],
   "source": [
    "SMS = 'This is the 2nd time we have tried 2 contact u. U have won the £750 Pound prize. 2 claim is easy, call 087187272008 NOW1! Only 10p per minute. BT-national-rate.'\n",
    "\n",
    "#Appy Preprossing on SMS as well as Converting into tf-idf vecorization\n",
    "input_x=tfidf.transform([PreProcessedSMS(SMS)]).toarray()\n",
    "input_x.shape"
   ]
  },
  {
   "cell_type": "markdown",
   "metadata": {},
   "source": [
    "## Prediction Using Model"
   ]
  },
  {
   "cell_type": "code",
   "execution_count": 6,
   "metadata": {},
   "outputs": [
    {
     "data": {
      "text/plain": [
       "['Spam']"
      ]
     },
     "execution_count": 6,
     "metadata": {},
     "output_type": "execute_result"
    }
   ],
   "source": [
    "#if Probability of SMS is 0.7 or above then its a \"spam\" otherwise its \"ham\"\n",
    "\n",
    "[\"Spam\" if lrc.predict_proba(input_x)[0][1] >= 0.70 else \"Ham\"]"
   ]
  },
  {
   "cell_type": "code",
   "execution_count": null,
   "metadata": {},
   "outputs": [],
   "source": []
  },
  {
   "cell_type": "code",
   "execution_count": null,
   "metadata": {},
   "outputs": [],
   "source": []
  }
 ],
 "metadata": {
  "kernelspec": {
   "display_name": "Python 3",
   "language": "python",
   "name": "python3"
  },
  "language_info": {
   "codemirror_mode": {
    "name": "ipython",
    "version": 3
   },
   "file_extension": ".py",
   "mimetype": "text/x-python",
   "name": "python",
   "nbconvert_exporter": "python",
   "pygments_lexer": "ipython3",
   "version": "3.7.7"
  }
 },
 "nbformat": 4,
 "nbformat_minor": 4
}
