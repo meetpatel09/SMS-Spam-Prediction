{
 "cells": [
  {
   "cell_type": "markdown",
   "metadata": {},
   "source": [
    "# SMS Spam Model Trainning and Testing Notebook"
   ]
  },
  {
   "cell_type": "code",
   "execution_count": 1,
   "metadata": {},
   "outputs": [],
   "source": [
    "import nltk\n",
    "import string\n",
    "import pickle\n",
    "import pandas as pd\n",
    "import seaborn as sns\n",
    "import matplotlib.pyplot as plt\n",
    "from nltk.corpus import stopwords\n",
    "stopwords.words('english')\n",
    "from nltk.stem.porter import PorterStemmer\n",
    "from sklearn.preprocessing import LabelEncoder\n",
    "from sklearn.feature_extraction.text import TfidfVectorizer\n",
    "from sklearn.linear_model import LogisticRegression\n",
    "from sklearn.model_selection import train_test_split\n",
    "from sklearn.metrics import accuracy_score,confusion_matrix,precision_score"
   ]
  },
  {
   "cell_type": "code",
   "execution_count": 24,
   "metadata": {},
   "outputs": [
    {
     "data": {
      "text/html": [
       "<div>\n",
       "<style scoped>\n",
       "    .dataframe tbody tr th:only-of-type {\n",
       "        vertical-align: middle;\n",
       "    }\n",
       "\n",
       "    .dataframe tbody tr th {\n",
       "        vertical-align: top;\n",
       "    }\n",
       "\n",
       "    .dataframe thead th {\n",
       "        text-align: right;\n",
       "    }\n",
       "</style>\n",
       "<table border=\"1\" class=\"dataframe\">\n",
       "  <thead>\n",
       "    <tr style=\"text-align: right;\">\n",
       "      <th></th>\n",
       "      <th>Target</th>\n",
       "      <th>SMS</th>\n",
       "    </tr>\n",
       "  </thead>\n",
       "  <tbody>\n",
       "    <tr>\n",
       "      <th>0</th>\n",
       "      <td>ham</td>\n",
       "      <td>Go until jurong point, crazy.. Available only ...</td>\n",
       "    </tr>\n",
       "    <tr>\n",
       "      <th>1</th>\n",
       "      <td>ham</td>\n",
       "      <td>Ok lar... Joking wif u oni...</td>\n",
       "    </tr>\n",
       "    <tr>\n",
       "      <th>2</th>\n",
       "      <td>spam</td>\n",
       "      <td>Free entry in 2 a wkly comp to win FA Cup fina...</td>\n",
       "    </tr>\n",
       "    <tr>\n",
       "      <th>3</th>\n",
       "      <td>ham</td>\n",
       "      <td>U dun say so early hor... U c already then say...</td>\n",
       "    </tr>\n",
       "    <tr>\n",
       "      <th>4</th>\n",
       "      <td>ham</td>\n",
       "      <td>Nah I don't think he goes to usf, he lives aro...</td>\n",
       "    </tr>\n",
       "    <tr>\n",
       "      <th>...</th>\n",
       "      <td>...</td>\n",
       "      <td>...</td>\n",
       "    </tr>\n",
       "    <tr>\n",
       "      <th>5567</th>\n",
       "      <td>spam</td>\n",
       "      <td>This is the 2nd time we have tried 2 contact u...</td>\n",
       "    </tr>\n",
       "    <tr>\n",
       "      <th>5568</th>\n",
       "      <td>ham</td>\n",
       "      <td>Will ü b going to esplanade fr home?</td>\n",
       "    </tr>\n",
       "    <tr>\n",
       "      <th>5569</th>\n",
       "      <td>ham</td>\n",
       "      <td>Pity, * was in mood for that. So...any other s...</td>\n",
       "    </tr>\n",
       "    <tr>\n",
       "      <th>5570</th>\n",
       "      <td>ham</td>\n",
       "      <td>The guy did some bitching but I acted like i'd...</td>\n",
       "    </tr>\n",
       "    <tr>\n",
       "      <th>5571</th>\n",
       "      <td>ham</td>\n",
       "      <td>Rofl. Its true to its name</td>\n",
       "    </tr>\n",
       "  </tbody>\n",
       "</table>\n",
       "<p>5572 rows × 2 columns</p>\n",
       "</div>"
      ],
      "text/plain": [
       "     Target                                                SMS\n",
       "0       ham  Go until jurong point, crazy.. Available only ...\n",
       "1       ham                      Ok lar... Joking wif u oni...\n",
       "2      spam  Free entry in 2 a wkly comp to win FA Cup fina...\n",
       "3       ham  U dun say so early hor... U c already then say...\n",
       "4       ham  Nah I don't think he goes to usf, he lives aro...\n",
       "...     ...                                                ...\n",
       "5567   spam  This is the 2nd time we have tried 2 contact u...\n",
       "5568    ham               Will ü b going to esplanade fr home?\n",
       "5569    ham  Pity, * was in mood for that. So...any other s...\n",
       "5570    ham  The guy did some bitching but I acted like i'd...\n",
       "5571    ham                         Rofl. Its true to its name\n",
       "\n",
       "[5572 rows x 2 columns]"
      ]
     },
     "execution_count": 24,
     "metadata": {},
     "output_type": "execute_result"
    }
   ],
   "source": [
    "# Read Spam Message Data \n",
    "SpamData=pd.read_csv('SMSSpamCollection.txt', delimiter = \"\\t\",header=None,names=['Target', 'SMS'])\n",
    "SpamData"
   ]
  },
  {
   "cell_type": "markdown",
   "metadata": {},
   "source": [
    "# Data Analysis"
   ]
  },
  {
   "cell_type": "code",
   "execution_count": 25,
   "metadata": {},
   "outputs": [
    {
     "data": {
      "text/html": [
       "<div>\n",
       "<style scoped>\n",
       "    .dataframe tbody tr th:only-of-type {\n",
       "        vertical-align: middle;\n",
       "    }\n",
       "\n",
       "    .dataframe tbody tr th {\n",
       "        vertical-align: top;\n",
       "    }\n",
       "\n",
       "    .dataframe thead th {\n",
       "        text-align: right;\n",
       "    }\n",
       "</style>\n",
       "<table border=\"1\" class=\"dataframe\">\n",
       "  <thead>\n",
       "    <tr style=\"text-align: right;\">\n",
       "      <th></th>\n",
       "      <th>Target</th>\n",
       "      <th>SMS</th>\n",
       "    </tr>\n",
       "  </thead>\n",
       "  <tbody>\n",
       "    <tr>\n",
       "      <th>103</th>\n",
       "      <td>ham</td>\n",
       "      <td>As per your request 'Melle Melle (Oru Minnamin...</td>\n",
       "    </tr>\n",
       "    <tr>\n",
       "      <th>154</th>\n",
       "      <td>ham</td>\n",
       "      <td>As per your request 'Melle Melle (Oru Minnamin...</td>\n",
       "    </tr>\n",
       "    <tr>\n",
       "      <th>207</th>\n",
       "      <td>ham</td>\n",
       "      <td>As I entered my cabin my PA said, '' Happy B'd...</td>\n",
       "    </tr>\n",
       "    <tr>\n",
       "      <th>223</th>\n",
       "      <td>ham</td>\n",
       "      <td>Sorry, I'll call later</td>\n",
       "    </tr>\n",
       "    <tr>\n",
       "      <th>326</th>\n",
       "      <td>ham</td>\n",
       "      <td>No calls..messages..missed calls</td>\n",
       "    </tr>\n",
       "    <tr>\n",
       "      <th>...</th>\n",
       "      <td>...</td>\n",
       "      <td>...</td>\n",
       "    </tr>\n",
       "    <tr>\n",
       "      <th>5524</th>\n",
       "      <td>spam</td>\n",
       "      <td>You are awarded a SiPix Digital Camera! call 0...</td>\n",
       "    </tr>\n",
       "    <tr>\n",
       "      <th>5535</th>\n",
       "      <td>ham</td>\n",
       "      <td>I know you are thinkin malaria. But relax, chi...</td>\n",
       "    </tr>\n",
       "    <tr>\n",
       "      <th>5539</th>\n",
       "      <td>ham</td>\n",
       "      <td>Just sleeping..and surfing</td>\n",
       "    </tr>\n",
       "    <tr>\n",
       "      <th>5553</th>\n",
       "      <td>ham</td>\n",
       "      <td>Hahaha..use your brain dear</td>\n",
       "    </tr>\n",
       "    <tr>\n",
       "      <th>5558</th>\n",
       "      <td>ham</td>\n",
       "      <td>Sorry, I'll call later</td>\n",
       "    </tr>\n",
       "  </tbody>\n",
       "</table>\n",
       "<p>403 rows × 2 columns</p>\n",
       "</div>"
      ],
      "text/plain": [
       "     Target                                                SMS\n",
       "103     ham  As per your request 'Melle Melle (Oru Minnamin...\n",
       "154     ham  As per your request 'Melle Melle (Oru Minnamin...\n",
       "207     ham  As I entered my cabin my PA said, '' Happy B'd...\n",
       "223     ham                             Sorry, I'll call later\n",
       "326     ham                   No calls..messages..missed calls\n",
       "...     ...                                                ...\n",
       "5524   spam  You are awarded a SiPix Digital Camera! call 0...\n",
       "5535    ham  I know you are thinkin malaria. But relax, chi...\n",
       "5539    ham                         Just sleeping..and surfing\n",
       "5553    ham                        Hahaha..use your brain dear\n",
       "5558    ham                             Sorry, I'll call later\n",
       "\n",
       "[403 rows x 2 columns]"
      ]
     },
     "execution_count": 25,
     "metadata": {},
     "output_type": "execute_result"
    }
   ],
   "source": [
    "# Checking  is there any Duplicates data\n",
    "SpamData[SpamData.duplicated()==True] "
   ]
  },
  {
   "cell_type": "code",
   "execution_count": 26,
   "metadata": {},
   "outputs": [],
   "source": [
    "#Drop Duplicate data\n",
    "SpamData.drop_duplicates(inplace=True)"
   ]
  },
  {
   "cell_type": "code",
   "execution_count": 5,
   "metadata": {},
   "outputs": [
    {
     "data": {
      "image/png": "[encoded data removed]",
      "text/plain": [
       "<Figure size 432x288 with 1 Axes>"
      ]
     },
     "metadata": {},
     "output_type": "display_data"
    }
   ],
   "source": [
    "#Plotting Counter of lables in data\n",
    "sns.set(font_scale=1.4)\n",
    "ax = sns.countplot(x=\"Target\", data=SpamData,)"
   ]
  },
  {
   "cell_type": "code",
   "execution_count": 6,
   "metadata": {},
   "outputs": [],
   "source": [
    "#Create New Column of length of the SMS text.\n",
    "SpamData['Length Of SMS'] = SpamData['SMS'].str.len()"
   ]
  },
  {
   "cell_type": "markdown",
   "metadata": {},
   "source": [
    "### Average length of \"ham\" SMS"
   ]
  },
  {
   "cell_type": "code",
   "execution_count": 7,
   "metadata": {},
   "outputs": [
    {
     "data": {
      "text/plain": [
       "70.90589016829053"
      ]
     },
     "execution_count": 7,
     "metadata": {},
     "output_type": "execute_result"
    }
   ],
   "source": [
    "#Count Average length of the ham SMS\n",
    "SpamData['Length Of SMS'][SpamData['Target']=='ham'].mean()"
   ]
  },
  {
   "cell_type": "markdown",
   "metadata": {},
   "source": [
    "### Average length of \"spam\" SMS"
   ]
  },
  {
   "cell_type": "code",
   "execution_count": 8,
   "metadata": {},
   "outputs": [
    {
     "data": {
      "text/plain": [
       "137.70444104134762"
      ]
     },
     "execution_count": 8,
     "metadata": {},
     "output_type": "execute_result"
    }
   ],
   "source": [
    "#Count Average length of the spam SMS\n",
    "SpamData['Length Of SMS'][SpamData['Target']=='spam'].mean()"
   ]
  },
  {
   "cell_type": "markdown",
   "metadata": {},
   "source": [
    "# Pre-Processing on Data (Text Data Pre-Processing)"
   ]
  },
  {
   "cell_type": "code",
   "execution_count": 9,
   "metadata": {},
   "outputs": [],
   "source": [
    "#Encoding Label data ex(ham:0,Spam:1)\n",
    "encoder = LabelEncoder() #Define Object of LabelEncoder\n",
    "SpamData['Target'] = encoder.fit_transform(SpamData['Target']) #Applied Lableencoder"
   ]
  },
  {
   "cell_type": "markdown",
   "metadata": {},
   "source": [
    "### Some Basic Step to Follow for Text Data Preprocesing\n",
    "    1) Convert Text into Lowercase\n",
    "    2) Tokennization of the text\n",
    "    3) Remove special characters\n",
    "    4) Remove Stop Words\n",
    "    5) Stemming of words"
   ]
  },
  {
   "cell_type": "code",
   "execution_count": 10,
   "metadata": {},
   "outputs": [],
   "source": [
    "#Create One Function which process above 5 Steps\n",
    "\n",
    "ps = PorterStemmer() #Define object for to stremming the data step no 5\n",
    "\n",
    "def PreProcessedSMS(SMS):\n",
    "    SMS = SMS.lower() #Convert All words into lowercase ex. Hello THERE => hello there.\n",
    "    SMS = nltk.wordpunct_tokenize(SMS) #Generate Tokend of Text ex.  hello there => ['hello','there']\n",
    "    \n",
    "    # loop for remove special character ex. @account => account\n",
    "    y = []\n",
    "    for word in SMS:\n",
    "        if word.isalnum():\n",
    "            y.append(word)\n",
    "            \n",
    "    SMS = y[:]\n",
    "    y.clear()\n",
    "    \n",
    "    # loop for remove stopwords \"There are Spiders\" => \"Spiders\"\n",
    "    for word in SMS:\n",
    "        if word not in stopwords.words('english') and word not in string.punctuation:\n",
    "            y.append(word)\n",
    "            \n",
    "            \n",
    "    SMS = y[:]\n",
    "    y.clear()\n",
    "    \n",
    "    # loop for Stemming the text Ex.  Played => Play\n",
    "    for word in SMS:\n",
    "        y.append(ps.stem(word))\n",
    "    \n",
    "    return \" \".join(y)"
   ]
  },
  {
   "cell_type": "code",
   "execution_count": 11,
   "metadata": {},
   "outputs": [],
   "source": [
    "#PreProcessedSMS function Apply on SMS Text\n",
    "SpamData['PreProcessedSMS'] = SpamData['SMS'].apply(PreProcessedSMS)"
   ]
  },
  {
   "cell_type": "markdown",
   "metadata": {},
   "source": [
    "### Vectorization on PreProcessedSMS Text\n",
    "#### Why Vectorization?\n",
    "Vectorization Process convert text into some numeric vector form and compare to normal text numeric vector  process fast and effective to train prediction model.\n",
    "\n",
    "#### Ways to do Vectorization\n",
    "    1.Bag of words\n",
    "    2.tf-Idf\n",
    "#### Why tf-Idf ?\n",
    "Bag of Words  created a vector of count the word occurrences  in the sentence and in tf-idf created a vector of importance value of the perticuler word in the sentence and   main reason to choose tf-idf  are perform effectivly better and faster in machine lerning models.\n",
    "    \n",
    "    "
   ]
  },
  {
   "cell_type": "code",
   "execution_count": 12,
   "metadata": {},
   "outputs": [],
   "source": [
    "#Define Object of Tf-idf Vectorizer\n",
    "tfidf = TfidfVectorizer()\n",
    "\n",
    "#Apply tf-idf on  Pre-Processed SMS and create vector\n",
    "X = tfidf.fit_transform(SpamData['PreProcessedSMS']).toarray()\n",
    "\n",
    "# Create Vector of Labels\n",
    "y =SpamData['Target'].values"
   ]
  },
  {
   "cell_type": "markdown",
   "metadata": {},
   "source": [
    "### Save tf-idf Object \n",
    "\n",
    "#### Why?\n",
    "\n",
    "When model is trained and to predict some SMS then we have to also first Convert that sms text into vectorization. "
   ]
  },
  {
   "cell_type": "code",
   "execution_count": 13,
   "metadata": {},
   "outputs": [],
   "source": [
    "#using pickle module it save the tf-idf object\n",
    "pickle.dump(tfidf, open(\"tfidf.pickle\", \"wb\"))"
   ]
  },
  {
   "cell_type": "markdown",
   "metadata": {},
   "source": [
    "# Model Trainnig & Testing"
   ]
  },
  {
   "cell_type": "code",
   "execution_count": 14,
   "metadata": {},
   "outputs": [],
   "source": [
    "# split a dataset into train and test sets ratio of 80 % for training and 20 % for testing\n",
    "X_train,X_test,y_train,y_test=train_test_split(X,y,test_size=0.2,random_state=2)"
   ]
  },
  {
   "attachments": {},
   "cell_type": "markdown",
   "metadata": {},
   "source": [
    "### Logistic Regression\n",
    "\n",
    "#### Why Logistic Regression?\n",
    "\n",
    "Our spamSMScollection dataset have binary Target(Ex. 'Spam' or 'ham').For this type of data Logistic Regression algorithm is used because this algorithm based on the concept of probability.Logistic regression transforms its output using the logistic sigmoid function to return a probability value.\n",
    "\n"
   ]
  },
  {
   "cell_type": "code",
   "execution_count": 19,
   "metadata": {},
   "outputs": [
    {
     "name": "stdout",
     "output_type": "stream",
     "text": [
      "Accuracy of model= 95.55%\n",
      "Precision of model= 94.44%\n"
     ]
    }
   ],
   "source": [
    "#Create LogisticRegression object\n",
    "lrc = LogisticRegression(solver='liblinear', penalty='l1')\n",
    "\n",
    "#Apply Logistic Regression on train datset\n",
    "lrc.fit(X_train,y_train)\n",
    "\n",
    "#Testing of model\n",
    "y_pred = lrc.predict(X_test)\n",
    "\n",
    "#Calculating Accuracy and Precision\n",
    "accuracy = accuracy_score(y_test,y_pred)\n",
    "precision = precision_score(y_test,y_pred)\n",
    "    \n",
    "print(f\"Accuracy of model= {round(accuracy*100,2)}%\")\n",
    "print(f\"Precision of model= {round(precision*100,2)}%\")"
   ]
  },
  {
   "cell_type": "code",
   "execution_count": 16,
   "metadata": {},
   "outputs": [],
   "source": [
    "#Save Trained model for future purpose\n",
    "pickle.dump(lrc, open(\"SMSSpamPredictionModel.pickle\", \"wb\"))"
   ]
  }
 ],
 "metadata": {
  "kernelspec": {
   "display_name": "Python 3",
   "language": "python",
   "name": "python3"
  },
  "language_info": {
   "codemirror_mode": {
    "name": "ipython",
    "version": 3
   },
   "file_extension": ".py",
   "mimetype": "text/x-python",
   "name": "python",
   "nbconvert_exporter": "python",
   "pygments_lexer": "ipython3",
   "version": "3.7.7"
  }
 },
 "nbformat": 4,
 "nbformat_minor": 4
}
